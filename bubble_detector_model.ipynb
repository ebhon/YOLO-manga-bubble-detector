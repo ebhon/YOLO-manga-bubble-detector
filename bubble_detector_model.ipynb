{
 "cells": [
  {
   "cell_type": "markdown",
   "id": "f09606d0",
   "metadata": {},
   "source": [
    "### 1.Organize Data"
   ]
  },
  {
   "cell_type": "code",
   "execution_count": null,
   "id": "a9fa01e0",
   "metadata": {},
   "outputs": [],
   "source": [
    "import os\n",
    "import random\n",
    "import shutil\n",
    "\n",
    "#define paths\n",
    "base_dir = 'Dataset'\n",
    "raw_images_dir = os.path.join(base_dir, 'raw_images')\n",
    "raw_labels_dir = os.path.join(base_dir, 'raw_labels')\n",
    "images_dir = os.path.join(base_dir, 'images')\n",
    "labels_dir = os.path.join(base_dir, 'labels')\n",
    "\n",
    "#recheck target folders\n",
    "for split in ['train', 'val']:\n",
    "    os.makedirs(os.path.join(images_dir, split), exist_ok=True)\n",
    "    os.makedirs(os.path.join(labels_dir, split), exist_ok=True)\n",
    "\n",
    "#list all images\n",
    "image_files = [f for f in os.listdir(raw_images_dir) if f.lower().endswith(('.jpg', '.jpeg', '.png'))]\n",
    "\n",
    "random.seed(42)\n",
    "random.shuffle(image_files)\n",
    "split_idx = int(len(image_files) * 0.8)\n",
    "train_files = image_files[:split_idx]\n",
    "val_files = image_files[split_idx:]\n",
    "\n",
    "def move_files(file_list, img_dst, lbl_dst):\n",
    "    for file in file_list:\n",
    "        name, _ = os.path.splitext(file)\n",
    "        img_src = os.path.join(raw_images_dir, file)\n",
    "        lbl_src = os.path.join(raw_labels_dir, name + '.txt')\n",
    "\n",
    "        if os.path.exists(img_src) and os.path.exists(lbl_src):\n",
    "            shutil.copy(img_src, os.path.join(img_dst, file))\n",
    "            shutil.copy(lbl_src, os.path.join(lbl_dst, name + '.txt'))\n",
    "\n",
    "move_files(train_files, os.path.join(images_dir, 'train'), os.path.join(labels_dir, 'train'))\n",
    "move_files(val_files, os.path.join(images_dir, 'val'), os.path.join(labels_dir, 'val'))\n",
    "\n",
    "print (f\"Total images: {len(image_files)}\")\n",
    "print (f\"Train images: {len(train_files)}\")\n",
    "print (f\"Val images: {len(val_files)}\")"
   ]
  },
  {
   "cell_type": "markdown",
   "id": "8cbb6a25",
   "metadata": {},
   "source": [
    "### 2. Create data.yaml file"
   ]
  },
  {
   "cell_type": "code",
   "execution_count": null,
   "id": "cfb540eb",
   "metadata": {},
   "outputs": [],
   "source": [
    "data_yaml = \"\"\"\n",
    "path: C:/Users/handw/Documents/Portfolio-FTDS/YOLO-manga-bubble-detector/Dataset\n",
    "train: images/train\n",
    "val: images/val\n",
    "\n",
    "names:\n",
    "    0: bubble\n",
    "    1: narration\n",
    "    2: ui\n",
    "\"\"\"\n",
    "\n",
    "#save inside 'project/' directory\n",
    "with open(\"data.yaml\", \"w\") as f:\n",
    "    f.write(data_yaml)\n",
    "\n",
    "print (\"Data.yaml saved\")"
   ]
  },
  {
   "cell_type": "markdown",
   "id": "270f7c32",
   "metadata": {},
   "source": [
    "### 4. Fix truncated Image"
   ]
  },
  {
   "cell_type": "code",
   "execution_count": null,
   "id": "e40a2cb3",
   "metadata": {},
   "outputs": [],
   "source": [
    "from PIL import Image, ImageFile\n",
    "import os\n",
    "\n",
    "ImageFile.LOAD_TRUNCATED_IMAGES = True  # allow truncated image loading\n",
    "\n",
    "def reload_and_save_images(folder_path):\n",
    "    for filename in os.listdir(folder_path):\n",
    "        if filename.lower().endswith(('.jpg', '.jpeg', '.png')):\n",
    "            path = os.path.join(folder_path, filename)\n",
    "            try:\n",
    "                img = Image.open(path)\n",
    "                img = img.convert(\"RGB\")  # force full load\n",
    "                img.save(path)  # overwrite with cleaned file\n",
    "            except Exception as e:\n",
    "                print(f\"Skipping {filename}: {e}\")\n",
    "\n",
    "reload_and_save_images('Dataset/images/train')\n",
    "reload_and_save_images('Dataset/images/val')"
   ]
  },
  {
   "cell_type": "markdown",
   "id": "5a940cfd",
   "metadata": {},
   "source": [
    "### 4. Train YOLOV8 Model"
   ]
  },
  {
   "cell_type": "code",
   "execution_count": null,
   "id": "4d11fe15",
   "metadata": {},
   "outputs": [],
   "source": [
    "from ultralytics import YOLO\n",
    "\n",
    "model = YOLO('yolov8n.pt')\n",
    "\n",
    "results = model.train(\n",
    "    data=\"data.yaml\",\n",
    "    epochs=50,\n",
    "    imgsz=640\n",
    "    )\n",
    "\n",
    "metrics = results.results_dict\n",
    "print (\"Training Complete\")\n",
    "print (f\"Best mAP@0.5: {metrics['metrics/mAP50']:.4f}\")\n",
    "print (f\"Best mAP@0.5:50: {metrics['metrics/mAP50-95']:.4f}\")\n",
    "print (f\"Best Precision: {metrics['metrics/Precision']:.4f}\")\n",
    "print (f\"Best Recall: {metrics['metrics/Recall']:.4f}\")"
   ]
  },
  {
   "cell_type": "markdown",
   "id": "7c7215f9",
   "metadata": {},
   "source": [
    "### Prediction test"
   ]
  },
  {
   "cell_type": "markdown",
   "id": "00bef314",
   "metadata": {},
   "source": [
    "| using train8 best.pt"
   ]
  },
  {
   "cell_type": "code",
   "execution_count": null,
   "id": "87ad6e1b",
   "metadata": {},
   "outputs": [],
   "source": [
    "from ultralytics import YOLO\n",
    "from PIL import Image, ImageFile\n",
    "import os\n",
    "\n",
    "ImageFile.LOAD_TRUNCATED_IMAGES = True  # allow truncated image loading\n",
    "\n",
    "def reload_and_save_images(folder_path):\n",
    "    for filename in os.listdir(folder_path):\n",
    "        if filename.lower().endswith(('.jpg', '.jpeg', '.png')):\n",
    "            path = os.path.join(folder_path, filename)\n",
    "            try:\n",
    "                img = Image.open(path)\n",
    "                img = img.convert(\"RGB\")  # force full load\n",
    "                img.save(path)  # overwrite with cleaned file\n",
    "            except Exception as e:\n",
    "                print(f\"Skipping {filename}: {e}\")\n",
    "\n",
    "reload_and_save_images('Dataset/test_set')\n",
    "\n",
    "model = YOLO('runs/detect/train8/weights/best.pt')\n",
    "\n",
    "results = model.predict('Dataset/test_set', save=True)"
   ]
  }
 ],
 "metadata": {
  "kernelspec": {
   "display_name": "base",
   "language": "python",
   "name": "python3"
  },
  "language_info": {
   "codemirror_mode": {
    "name": "ipython",
    "version": 3
   },
   "file_extension": ".py",
   "mimetype": "text/x-python",
   "name": "python",
   "nbconvert_exporter": "python",
   "pygments_lexer": "ipython3",
   "version": "3.12.4"
  }
 },
 "nbformat": 4,
 "nbformat_minor": 5
}
